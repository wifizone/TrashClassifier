{
 "cells": [
  {
   "cell_type": "code",
   "execution_count": 10,
   "metadata": {},
   "outputs": [],
   "source": [
    "import pandas as pd\n",
    "import numpy as np\n",
    "import os\n",
    "import keras\n",
    "import matplotlib.pyplot as plt\n",
    "from keras.layers import Dense,GlobalAveragePooling2D\n",
    "from keras.applications.nasnet import NASNetMobile\n",
    "from keras.preprocessing import image\n",
    "from keras.applications.mobilenet import preprocess_input\n",
    "from keras.preprocessing.image import ImageDataGenerator\n",
    "from keras.models import Model\n",
    "#from keras.optimizers import Adam\n",
    "from keras import optimizers"
   ]
  },
  {
   "cell_type": "code",
   "execution_count": null,
   "metadata": {},
   "outputs": [
    {
     "name": "stdout",
     "output_type": "stream",
     "text": [
      "Downloading data from https://github.com/titu1994/Keras-NASNet/releases/download/v1.2/NASNet-mobile-no-top.h5\n",
      "19996672/19993432 [==============================] - 1s 0us/step\n"
     ]
    }
   ],
   "source": [
    "base_model=NASNetMobile(weights='imagenet',include_top=False) #imports the mobilenet model and discards the last 1000 neuron layer.\n",
    "\n",
    "x=base_model.output\n",
    "x=GlobalAveragePooling2D()(x)\n",
    "x=Dense(1024,activation='relu')(x) #we add dense layers so that the model can learn more complex functions and classify for better results.\n",
    "x=Dense(1024,activation='relu')(x) #dense layer 2\n",
    "x=Dense(512,activation='relu')(x) #dense layer 3\n",
    "preds=Dense(6,activation='softmax')(x) #final layer with softmax activation"
   ]
  },
  {
   "cell_type": "code",
   "execution_count": 3,
   "metadata": {},
   "outputs": [],
   "source": [
    "model=Model(inputs=base_model.input,outputs=preds)\n",
    "#specify the inputs\n",
    "#specify the outputs\n",
    "#now a model has been created based on our architecture"
   ]
  },
  {
   "cell_type": "code",
   "execution_count": 4,
   "metadata": {},
   "outputs": [],
   "source": [
    "for layer in model.layers:\n",
    "    layer.trainable = True"
   ]
  },
  {
   "cell_type": "code",
   "execution_count": 5,
   "metadata": {},
   "outputs": [
    {
     "name": "stdout",
     "output_type": "stream",
     "text": [
      "Found 3299 images belonging to 6 classes.\n",
      "Found 822 images belonging to 6 classes.\n"
     ]
    }
   ],
   "source": [
    "train_datagen = ImageDataGenerator(preprocessing_function=preprocess_input) #included in our dependencies\n",
    "test_datagen = ImageDataGenerator(rescale=1./255)\n",
    "\n",
    "train_generator=train_datagen.flow_from_directory('./merged_full_split_final/train/', # this is where you specify the path to the main data folder\n",
    "                                                 target_size=(224,224),\n",
    "                                                 color_mode='rgb',\n",
    "                                                 batch_size=32,\n",
    "                                                 class_mode='categorical',\n",
    "                                                 shuffle=True)\n",
    "\n",
    "test_generator = test_datagen.flow_from_directory(\n",
    "    directory='./merged_full_split_final/val/',\n",
    "    target_size=(224, 224),\n",
    "    color_mode=\"rgb\",\n",
    "    batch_size=32,\n",
    "    class_mode='categorical',\n",
    "    shuffle=True\n",
    ")"
   ]
  },
  {
   "cell_type": "code",
   "execution_count": 6,
   "metadata": {},
   "outputs": [
    {
     "name": "stdout",
     "output_type": "stream",
     "text": [
      "WARNING:tensorflow:From /usr/local/lib/python3.5/dist-packages/tensorflow/python/ops/math_ops.py:3066: to_int32 (from tensorflow.python.ops.math_ops) is deprecated and will be removed in a future version.\n",
      "Instructions for updating:\n",
      "Use tf.cast instead.\n",
      "Epoch 1/40\n",
      "103/103 [==============================] - 35s 342ms/step - loss: 1.0412 - acc: 0.6174 - val_loss: 3.5538 - val_acc: 0.4125\n",
      "Epoch 2/40\n",
      "103/103 [==============================] - 20s 199ms/step - loss: 0.8762 - acc: 0.7118 - val_loss: 4.6000 - val_acc: 0.4241\n",
      "Epoch 3/40\n",
      "103/103 [==============================] - 21s 199ms/step - loss: 0.6691 - acc: 0.7753 - val_loss: 2.4822 - val_acc: 0.4797\n",
      "Epoch 4/40\n",
      "103/103 [==============================] - 21s 199ms/step - loss: 0.6244 - acc: 0.8013 - val_loss: 5.9871 - val_acc: 0.3481\n",
      "Epoch 5/40\n",
      "103/103 [==============================] - 21s 201ms/step - loss: 0.5533 - acc: 0.8255 - val_loss: 3.6254 - val_acc: 0.4544\n",
      "Epoch 6/40\n",
      "103/103 [==============================] - 20s 197ms/step - loss: 0.4989 - acc: 0.8290 - val_loss: 2.7295 - val_acc: 0.4620\n",
      "Epoch 7/40\n",
      "103/103 [==============================] - 20s 196ms/step - loss: 0.5729 - acc: 0.8220 - val_loss: 5.9731 - val_acc: 0.3975\n",
      "Epoch 8/40\n",
      "103/103 [==============================] - 20s 196ms/step - loss: 0.4188 - acc: 0.8655 - val_loss: 8.7409 - val_acc: 0.2810\n",
      "Epoch 9/40\n",
      "103/103 [==============================] - 21s 201ms/step - loss: 0.3645 - acc: 0.8851 - val_loss: 6.9716 - val_acc: 0.3848\n",
      "Epoch 10/40\n",
      "103/103 [==============================] - 20s 198ms/step - loss: 0.3257 - acc: 0.8991 - val_loss: 3.5092 - val_acc: 0.4468\n",
      "Epoch 11/40\n",
      "103/103 [==============================] - 20s 196ms/step - loss: 0.2500 - acc: 0.9202 - val_loss: 2.3703 - val_acc: 0.5646\n",
      "Epoch 12/40\n",
      "103/103 [==============================] - 21s 203ms/step - loss: 0.2317 - acc: 0.9336 - val_loss: 6.0622 - val_acc: 0.3405\n",
      "Epoch 13/40\n",
      "103/103 [==============================] - 21s 200ms/step - loss: 0.2472 - acc: 0.9200 - val_loss: 2.6546 - val_acc: 0.4810\n",
      "Epoch 14/40\n",
      "103/103 [==============================] - 21s 200ms/step - loss: 0.2312 - acc: 0.9288 - val_loss: 6.5257 - val_acc: 0.3468\n",
      "Epoch 15/40\n",
      "103/103 [==============================] - 20s 197ms/step - loss: 0.2809 - acc: 0.9215 - val_loss: 9.6920 - val_acc: 0.2481\n",
      "Epoch 16/40\n",
      "103/103 [==============================] - 20s 195ms/step - loss: 0.1670 - acc: 0.9476 - val_loss: 4.0697 - val_acc: 0.4494\n",
      "Epoch 17/40\n",
      "103/103 [==============================] - 21s 200ms/step - loss: 0.1645 - acc: 0.9469 - val_loss: 5.5857 - val_acc: 0.3608\n",
      "Epoch 18/40\n",
      "103/103 [==============================] - 20s 198ms/step - loss: 0.2141 - acc: 0.9320 - val_loss: 3.4434 - val_acc: 0.4228\n",
      "Epoch 19/40\n",
      "103/103 [==============================] - 20s 199ms/step - loss: 0.1978 - acc: 0.9440 - val_loss: 5.0763 - val_acc: 0.3418\n",
      "Epoch 20/40\n",
      "103/103 [==============================] - 20s 196ms/step - loss: 0.1722 - acc: 0.9443 - val_loss: 5.6082 - val_acc: 0.3241\n",
      "Epoch 21/40\n",
      "103/103 [==============================] - 21s 201ms/step - loss: 0.1769 - acc: 0.9434 - val_loss: 5.6094 - val_acc: 0.2949\n",
      "Epoch 22/40\n",
      "103/103 [==============================] - 21s 200ms/step - loss: 0.2128 - acc: 0.9361 - val_loss: 5.4860 - val_acc: 0.4215\n",
      "Epoch 23/40\n",
      "103/103 [==============================] - 21s 201ms/step - loss: 0.1272 - acc: 0.9615 - val_loss: 5.2872 - val_acc: 0.4304\n",
      "Epoch 24/40\n",
      "103/103 [==============================] - 21s 202ms/step - loss: 0.2494 - acc: 0.9302 - val_loss: 7.2203 - val_acc: 0.3759\n",
      "Epoch 25/40\n",
      "103/103 [==============================] - 21s 202ms/step - loss: 0.2293 - acc: 0.9309 - val_loss: 5.4069 - val_acc: 0.3291\n",
      "Epoch 26/40\n",
      "103/103 [==============================] - 21s 200ms/step - loss: 0.1675 - acc: 0.9527 - val_loss: 9.0389 - val_acc: 0.1937\n",
      "Epoch 27/40\n",
      "103/103 [==============================] - 21s 203ms/step - loss: 0.1679 - acc: 0.9422 - val_loss: 8.1611 - val_acc: 0.1862\n",
      "Epoch 28/40\n",
      "103/103 [==============================] - 21s 201ms/step - loss: 0.3124 - acc: 0.9114 - val_loss: 7.5047 - val_acc: 0.2380\n",
      "Epoch 29/40\n",
      "103/103 [==============================] - 21s 202ms/step - loss: 0.1673 - acc: 0.9410 - val_loss: 6.0776 - val_acc: 0.1848\n",
      "Epoch 30/40\n",
      "103/103 [==============================] - 20s 197ms/step - loss: 0.1183 - acc: 0.9639 - val_loss: 5.6972 - val_acc: 0.3734\n",
      "Epoch 31/40\n",
      "103/103 [==============================] - 20s 196ms/step - loss: 0.2409 - acc: 0.9162 - val_loss: 3.8877 - val_acc: 0.4114\n",
      "Epoch 32/40\n",
      "103/103 [==============================] - 20s 198ms/step - loss: 0.1539 - acc: 0.9513 - val_loss: 3.6509 - val_acc: 0.4367\n",
      "Epoch 33/40\n",
      "103/103 [==============================] - 21s 200ms/step - loss: 0.1016 - acc: 0.9691 - val_loss: 5.7203 - val_acc: 0.3747\n",
      "Epoch 34/40\n",
      "103/103 [==============================] - 20s 196ms/step - loss: 0.1930 - acc: 0.9404 - val_loss: 6.2194 - val_acc: 0.3582\n",
      "Epoch 35/40\n",
      "103/103 [==============================] - 20s 196ms/step - loss: 0.2136 - acc: 0.9371 - val_loss: 9.2699 - val_acc: 0.2165\n",
      "Epoch 36/40\n",
      "103/103 [==============================] - 20s 197ms/step - loss: 0.1307 - acc: 0.9615 - val_loss: 6.2027 - val_acc: 0.3063\n",
      "Epoch 37/40\n",
      "103/103 [==============================] - 20s 195ms/step - loss: 0.1051 - acc: 0.9712 - val_loss: 4.4369 - val_acc: 0.3608\n",
      "Epoch 38/40\n",
      "103/103 [==============================] - 20s 199ms/step - loss: 0.1187 - acc: 0.9646 - val_loss: 5.4411 - val_acc: 0.2949\n",
      "Epoch 39/40\n",
      "103/103 [==============================] - 20s 198ms/step - loss: 0.1364 - acc: 0.9643 - val_loss: 7.0521 - val_acc: 0.2633\n",
      "Epoch 40/40\n",
      "103/103 [==============================] - 20s 198ms/step - loss: 0.1406 - acc: 0.9575 - val_loss: 3.8070 - val_acc: 0.4899\n"
     ]
    }
   ],
   "source": [
    "model.compile(optimizer='Adam',loss='categorical_crossentropy',metrics=['accuracy'])\n",
    "# Adam optimizer\n",
    "# loss function will be categorical cross entropy\n",
    "# evaluation metric will be accuracy\n",
    "\n",
    "step_size_train=train_generator.n//train_generator.batch_size\n",
    "step_size_test=test_generator.n//test_generator.batch_size\n",
    "history = model.fit_generator(generator=train_generator,\n",
    "                   steps_per_epoch=step_size_train,\n",
    "                   epochs=15,\n",
    "                   validation_data=test_generator,\n",
    "                   validation_steps=step_size_test)"
   ]
  },
  {
   "cell_type": "code",
   "execution_count": 7,
   "metadata": {},
   "outputs": [
    {
     "name": "stdout",
     "output_type": "stream",
     "text": [
      "dict_keys(['val_loss', 'acc', 'loss', 'val_acc'])\n"
     ]
    },
    {
     "data": {
      "text/plain": [
       "<Figure size 432x288 with 0 Axes>"
      ]
     },
     "execution_count": 7,
     "metadata": {},
     "output_type": "execute_result"
    },
    {
     "data": {
      "text/plain": [
       "<Figure size 432x288 with 0 Axes>"
      ]
     },
     "metadata": {},
     "output_type": "display_data"
    }
   ],
   "source": [
    "print(history.history.keys())\n",
    "plt.figure(1)  "
   ]
  },
  {
   "cell_type": "code",
   "execution_count": 8,
   "metadata": {},
   "outputs": [
    {
     "data": {
      "image/png": "[encoded data removed]",
      "text/plain": [
       "<Figure size 432x288 with 1 Axes>"
      ]
     },
     "metadata": {
      "needs_background": "light"
     },
     "output_type": "display_data"
    }
   ],
   "source": [
    " # summarize history for accuracy\n",
    "    \n",
    " plt.subplot(211)  \n",
    " plt.plot(history.history['acc'])  \n",
    " plt.plot(history.history['val_acc'])  \n",
    " plt.title('model accuracy')  \n",
    " plt.ylabel('accuracy')  \n",
    " plt.xlabel('epoch')  \n",
    " plt.legend(['train', 'test'], loc='upper left')  \n",
    " plt.savefig('./graphs/model_accuracy.png')"
   ]
  },
  {
   "cell_type": "code",
   "execution_count": 9,
   "metadata": {},
   "outputs": [
    {
     "data": {
      "image/png": "[encoded data removed]",
      "text/plain": [
       "<Figure size 432x288 with 1 Axes>"
      ]
     },
     "metadata": {
      "needs_background": "light"
     },
     "output_type": "display_data"
    },
    {
     "data": {
      "text/plain": [
       "<Figure size 432x288 with 0 Axes>"
      ]
     },
     "metadata": {},
     "output_type": "display_data"
    }
   ],
   "source": [
    " # summarize history for loss  \n",
    "   \n",
    " plt.subplot(212)  \n",
    " plt.plot(history.history['loss'])  \n",
    " plt.plot(history.history['val_loss'])  \n",
    " plt.title('model loss')  \n",
    " plt.ylabel('loss')  \n",
    " plt.xlabel('epoch')  \n",
    " plt.legend(['train', 'test'], loc='upper left')  \n",
    " plt.show() \n",
    " plt.savefig('./graphs/model_loss.png')"
   ]
  },
  {
   "cell_type": "code",
   "execution_count": null,
   "metadata": {},
   "outputs": [],
   "source": []
  }
 ],
 "metadata": {
  "kernelspec": {
   "display_name": "Python 3",
   "language": "python",
   "name": "python3"
  },
  "language_info": {
   "codemirror_mode": {
    "name": "ipython",
    "version": 3
   },
   "file_extension": ".py",
   "mimetype": "text/x-python",
   "name": "python",
   "nbconvert_exporter": "python",
   "pygments_lexer": "ipython3",
   "version": "3.5.3"
  }
 },
 "nbformat": 4,
 "nbformat_minor": 2
}
