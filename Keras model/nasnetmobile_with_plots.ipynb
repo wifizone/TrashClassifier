{
 "cells": [
  {
   "cell_type": "code",
   "execution_count": 10,
   "metadata": {},
   "outputs": [],
   "source": [
    "import pandas as pd\n",
    "import numpy as np\n",
    "import os\n",
    "import keras\n",
    "import matplotlib.pyplot as plt\n",
    "from keras.layers import Dense,GlobalAveragePooling2D\n",
    "from keras.applications.nasnet import NASNetMobile\n",
    "from keras.preprocessing import image\n",
    "from keras.applications.mobilenet import preprocess_input\n",
    "from keras.preprocessing.image import ImageDataGenerator\n",
    "from keras.models import Model\n",
    "#from keras.optimizers import Adam\n",
    "from keras import optimizers"
   ]
  },
  {
   "cell_type": "code",
   "execution_count": 11,
   "metadata": {},
   "outputs": [
    {
     "name": "stdout",
     "output_type": "stream",
     "text": [
      "Downloading data from https://github.com/titu1994/Keras-NASNet/releases/download/v1.2/NASNet-mobile-no-top.h5\n",
      "19996672/19993432 [==============================] - 1s 0us/step\n"
     ]
    }
   ],
   "source": [
    "base_model=NASNetMobile(weights='imagenet',include_top=False) #imports the mobilenet model and discards the last 1000 neuron layer.\n",
    "\n",
    "x=base_model.output\n",
    "x=GlobalAveragePooling2D()(x)\n",
    "x=Dense(1024,activation='relu')(x) #we add dense layers so that the model can learn more complex functions and classify for better results.\n",
    "x=Dense(1024,activation='relu')(x) #dense layer 2\n",
    "x=Dense(512,activation='relu')(x) #dense layer 3\n",
    "preds=Dense(6,activation='softmax')(x) #final layer with softmax activation"
   ]
  },
  {
   "cell_type": "code",
   "execution_count": 12,
   "metadata": {},
   "outputs": [],
   "source": [
    "model=Model(inputs=base_model.input,outputs=preds)\n",
    "#specify the inputs\n",
    "#specify the outputs\n",
    "#now a model has been created based on our architecture"
   ]
  },
  {
   "cell_type": "code",
   "execution_count": 20,
   "metadata": {},
   "outputs": [],
   "source": [
    "for layer in model.layers:\n",
    "    layer.trainable = True\n",
    "    \n",
    "#for layer in model.layers[:10]:\n",
    "#    layer.trainable=False\n",
    "#for layer in model.layers[10:]:\n",
    "#    layer.trainable=True"
   ]
  },
  {
   "cell_type": "code",
   "execution_count": 21,
   "metadata": {},
   "outputs": [
    {
     "name": "stdout",
     "output_type": "stream",
     "text": [
      "Found 3299 images belonging to 6 classes.\n",
      "Found 822 images belonging to 6 classes.\n"
     ]
    }
   ],
   "source": [
    "train_datagen = ImageDataGenerator(preprocessing_function=preprocess_input) #included in our dependencies\n",
    "test_datagen = ImageDataGenerator(rescale=1./255)\n",
    "\n",
    "train_generator=train_datagen.flow_from_directory('./merged_full_split_final/train/', # this is where you specify the path to the main data folder\n",
    "                                                 target_size=(224,224),\n",
    "                                                 color_mode='rgb',\n",
    "                                                 batch_size=32,\n",
    "                                                 class_mode='categorical',\n",
    "                                                 shuffle=True)\n",
    "\n",
    "test_generator = test_datagen.flow_from_directory(\n",
    "    directory='./merged_full_split_final/val/',\n",
    "    target_size=(224, 224),\n",
    "    color_mode=\"rgb\",\n",
    "    batch_size=32,\n",
    "    class_mode='categorical',\n",
    "    shuffle=True\n",
    ")"
   ]
  },
  {
   "cell_type": "code",
   "execution_count": 22,
   "metadata": {},
   "outputs": [
    {
     "name": "stdout",
     "output_type": "stream",
     "text": [
      "Epoch 1/15\n",
      "103/103 [==============================] - 134s 1s/step - loss: 0.2384 - acc: 0.9405 - val_loss: 4.9804 - val_acc: 0.4113\n",
      "Epoch 2/15\n",
      "103/103 [==============================] - 51s 496ms/step - loss: 0.1751 - acc: 0.9472 - val_loss: 5.4510 - val_acc: 0.5177\n",
      "Epoch 3/15\n",
      "103/103 [==============================] - 51s 498ms/step - loss: 0.1955 - acc: 0.9479 - val_loss: 6.1682 - val_acc: 0.5038\n",
      "Epoch 4/15\n",
      "103/103 [==============================] - 51s 495ms/step - loss: 0.2355 - acc: 0.9346 - val_loss: 4.5559 - val_acc: 0.4823\n",
      "Epoch 5/15\n",
      "103/103 [==============================] - 51s 496ms/step - loss: 0.2556 - acc: 0.9283 - val_loss: 10.0553 - val_acc: 0.3089\n",
      "Epoch 6/15\n",
      "103/103 [==============================] - 51s 498ms/step - loss: 0.2157 - acc: 0.9388 - val_loss: 12.3640 - val_acc: 0.2329\n",
      "Epoch 7/15\n",
      "103/103 [==============================] - 51s 491ms/step - loss: 0.2025 - acc: 0.9428 - val_loss: 11.6270 - val_acc: 0.2684\n",
      "Epoch 8/15\n",
      "103/103 [==============================] - 51s 496ms/step - loss: 0.2993 - acc: 0.9165 - val_loss: 12.5903 - val_acc: 0.2000\n",
      "Epoch 9/15\n",
      "103/103 [==============================] - 51s 496ms/step - loss: 0.1519 - acc: 0.9577 - val_loss: 10.2900 - val_acc: 0.2734\n",
      "Epoch 10/15\n",
      "103/103 [==============================] - 51s 494ms/step - loss: 0.1161 - acc: 0.9663 - val_loss: 7.6326 - val_acc: 0.3101\n",
      "Epoch 11/15\n",
      "103/103 [==============================] - 51s 495ms/step - loss: 0.0751 - acc: 0.9782 - val_loss: 9.5390 - val_acc: 0.3089\n",
      "Epoch 12/15\n",
      "103/103 [==============================] - 51s 498ms/step - loss: 0.0762 - acc: 0.9794 - val_loss: 5.9091 - val_acc: 0.4975\n",
      "Epoch 13/15\n",
      "103/103 [==============================] - 51s 494ms/step - loss: 0.1098 - acc: 0.9704 - val_loss: 9.2377 - val_acc: 0.2506\n",
      "Epoch 14/15\n",
      "103/103 [==============================] - 51s 495ms/step - loss: 0.0895 - acc: 0.9731 - val_loss: 6.0694 - val_acc: 0.5063\n",
      "Epoch 15/15\n",
      "103/103 [==============================] - 51s 496ms/step - loss: 0.2882 - acc: 0.9291 - val_loss: 14.1915 - val_acc: 0.1051\n"
     ]
    }
   ],
   "source": [
    "model.compile(optimizer='Adam',loss='categorical_crossentropy',metrics=['accuracy'])\n",
    "# Adam optimizer\n",
    "# loss function will be categorical cross entropy\n",
    "# evaluation metric will be accuracy\n",
    "\n",
    "step_size_train=train_generator.n//train_generator.batch_size\n",
    "step_size_test=test_generator.n//test_generator.batch_size\n",
    "history = model.fit_generator(generator=train_generator,\n",
    "                   steps_per_epoch=step_size_train,\n",
    "                   epochs=15,\n",
    "                   validation_data=test_generator,\n",
    "                   validation_steps=step_size_test)"
   ]
  },
  {
   "cell_type": "code",
   "execution_count": 23,
   "metadata": {},
   "outputs": [
    {
     "name": "stdout",
     "output_type": "stream",
     "text": [
      "dict_keys(['val_loss', 'acc', 'loss', 'val_acc'])\n"
     ]
    },
    {
     "data": {
      "text/plain": [
       "<Figure size 432x288 with 0 Axes>"
      ]
     },
     "execution_count": 23,
     "metadata": {},
     "output_type": "execute_result"
    },
    {
     "data": {
      "text/plain": [
       "<Figure size 432x288 with 0 Axes>"
      ]
     },
     "metadata": {},
     "output_type": "display_data"
    }
   ],
   "source": [
    "print(history.history.keys())\n",
    "plt.figure(1)  "
   ]
  },
  {
   "cell_type": "code",
   "execution_count": 24,
   "metadata": {},
   "outputs": [
    {
     "data": {
      "image/png": "[encoded data removed]",
      "text/plain": [
       "<Figure size 432x288 with 1 Axes>"
      ]
     },
     "metadata": {
      "needs_background": "light"
     },
     "output_type": "display_data"
    }
   ],
   "source": [
    " # summarize history for accuracy\n",
    "    \n",
    " plt.subplot(211)  \n",
    " plt.plot(history.history['acc'])  \n",
    " plt.plot(history.history['val_acc'])  \n",
    " plt.title('model accuracy')  \n",
    " plt.ylabel('accuracy')  \n",
    " plt.xlabel('epoch')  \n",
    " plt.legend(['train', 'test'], loc='upper left')  \n",
    " plt.savefig('./graphs/model_accuracy.png')"
   ]
  },
  {
   "cell_type": "code",
   "execution_count": 25,
   "metadata": {},
   "outputs": [
    {
     "data": {
      "image/png": "[encoded data removed]",
      "text/plain": [
       "<Figure size 432x288 with 1 Axes>"
      ]
     },
     "metadata": {
      "needs_background": "light"
     },
     "output_type": "display_data"
    },
    {
     "data": {
      "text/plain": [
       "<Figure size 432x288 with 0 Axes>"
      ]
     },
     "metadata": {},
     "output_type": "display_data"
    }
   ],
   "source": [
    " # summarize history for loss  \n",
    "   \n",
    " plt.subplot(212)  \n",
    " plt.plot(history.history['loss'])  \n",
    " plt.plot(history.history['val_loss'])  \n",
    " plt.title('model loss')  \n",
    " plt.ylabel('loss')  \n",
    " plt.xlabel('epoch')  \n",
    " plt.legend(['train', 'test'], loc='upper left')  \n",
    " plt.show() \n",
    " plt.savefig('./graphs/model_loss.png')"
   ]
  },
  {
   "cell_type": "code",
   "execution_count": null,
   "metadata": {},
   "outputs": [],
   "source": []
  }
 ],
 "metadata": {
  "kernelspec": {
   "display_name": "Python 3",
   "language": "python",
   "name": "python3"
  },
  "language_info": {
   "codemirror_mode": {
    "name": "ipython",
    "version": 3
   },
   "file_extension": ".py",
   "mimetype": "text/x-python",
   "name": "python",
   "nbconvert_exporter": "python",
   "pygments_lexer": "ipython3",
   "version": "3.5.3"
  }
 },
 "nbformat": 4,
 "nbformat_minor": 2
}
